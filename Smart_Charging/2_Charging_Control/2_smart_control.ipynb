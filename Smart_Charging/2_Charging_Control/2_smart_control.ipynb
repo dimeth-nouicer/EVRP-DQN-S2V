{
 "cells": [
  {
   "cell_type": "markdown",
   "metadata": {},
   "source": [
    "# Imports"
   ]
  },
  {
   "cell_type": "code",
   "execution_count": 1,
   "metadata": {},
   "outputs": [],
   "source": [
    "import os\n",
    "Smart_charging_path = os.getcwd()\n",
    "from os.path import dirname, join, exists\n",
    "import win32com.client\n",
    "dssObj = win32com.client.Dispatch(\"OpenDSSEngine.DSS\")\n",
    "dssObj = win32com.client.Dispatch(\"OpenDSSEngine.DSS\")\n",
    "dssObj.AllowForms = False # Disable progress bar\n",
    "dssText = dssObj.Text\n",
    "dssCircuit = dssObj.ActiveCircuit\n",
    "dssSolution = dssCircuit.Solution\n",
    "dssElem = dssCircuit.ActiveCktElement\n",
    "dssBus = dssCircuit.ActiveBus\n",
    "DssMonitors = dssCircuit.Monitors\n",
    "import pandas as pd # type: ignore\n",
    "import datetime as dt\n",
    "import numpy as np # type: ignore\n",
    "from pymoo.problems.functional import FunctionalProblem # type: ignore\n",
    "from pymoo.optimize import minimize # type: ignore\n",
    "import plotly.express as px # type: ignore\n",
    "import warnings\n",
    "import random\n",
    "random.seed(10)\n",
    "warnings.filterwarnings(\"ignore\")\n",
    "import plotly.graph_objects as go # type: ignore\n",
    "from pymoo.visualization.scatter import Scatter # type: ignore\n",
    "from pymoo.decomposition.asf import ASF # type: ignore\n",
    "import matplotlib.pyplot as plt"
   ]
  },
  {
   "cell_type": "markdown",
   "metadata": {},
   "source": [
    "# Paths"
   ]
  },
  {
   "cell_type": "code",
   "execution_count": 2,
   "metadata": {},
   "outputs": [],
   "source": [
    "Grid_model_path = join(dirname(Smart_charging_path), \"1_Grid_model\")\n",
    "Results_path = join(Smart_charging_path, 'Results')"
   ]
  },
  {
   "cell_type": "markdown",
   "metadata": {},
   "source": [
    "# General params"
   ]
  },
  {
   "cell_type": "code",
   "execution_count": 3,
   "metadata": {},
   "outputs": [],
   "source": [
    "run_datetime = dt.datetime(dt.date.today().year, dt.date.today().month, dt.date.today().day)\n",
    "sim_period = pd.timedelta_range(0, dt.timedelta(days=1), freq='5T', closed='left')\n",
    "sim_datetimes = pd.date_range(run_datetime, run_datetime + dt.timedelta(days=1),freq='5T', inclusive='left')\n",
    "load_names = ['load_' + str(i) for i in range(1, 118)]\n",
    "main_buses_names = [str(i) for i in range(1, 47)] + [str(i) for i in range(49, 52)] + \\\n",
    "    ['56'] + ['61'] + ['66'] + ['73'] + ['80'] + ['87'] + ['96'] + ['106'] + ['117'] + \\\n",
    "    ['127'] + ['137'] + ['151'] + ['169'] + ['188'] + ['206'] + \\\n",
    "    ['228'] + ['253'] + ['278'] + ['304']\n",
    "CPs_names = ['CP_' + str(i) for i in range(1, 4)]\n",
    "PVs_names = ['PV_' + str(i) for i in range(1, 13)]"
   ]
  },
  {
   "cell_type": "markdown",
   "metadata": {},
   "source": [
    "# Loads data"
   ]
  },
  {
   "cell_type": "code",
   "execution_count": 4,
   "metadata": {},
   "outputs": [],
   "source": [
    "P_loads = pd.DataFrame(index=sim_datetimes)\n",
    "for load in load_names:\n",
    "    P_loads[load] = pd.read_csv(join(Grid_model_path, \"Load_profiles\", load.split('_')[0] + load.split('_')[1] + '_5min.csv'), header=None).values"
   ]
  },
  {
   "cell_type": "code",
   "execution_count": 5,
   "metadata": {},
   "outputs": [],
   "source": [
    "# px.line(P_loads)"
   ]
  },
  {
   "cell_type": "markdown",
   "metadata": {},
   "source": [
    "# CPs data"
   ]
  },
  {
   "cell_type": "code",
   "execution_count": 6,
   "metadata": {},
   "outputs": [],
   "source": [
    "max_power = 11"
   ]
  },
  {
   "cell_type": "code",
   "execution_count": 7,
   "metadata": {},
   "outputs": [],
   "source": [
    "P_CPs = pd.DataFrame(\n",
    "    index=sim_datetimes,\n",
    "    columns=CPs_names,\n",
    "    data=np.stack([np.concatenate([np.repeat(0, 12*12), np.repeat(max_power, 12), np.repeat(0, 11*12)]),\n",
    "                   np.concatenate([np.repeat(0, 9*12), np.repeat(max_power, 12), np.repeat(0, 14*12)]),\n",
    "                   np.concatenate([np.repeat(0, 14*12), np.repeat(max_power, 2*12), np.repeat(0, 8*12)])],\n",
    "                   axis=1)\n",
    ")"
   ]
  },
  {
   "cell_type": "code",
   "execution_count": null,
   "metadata": {},
   "outputs": [],
   "source": [
    "px.line(P_CPs)"
   ]
  },
  {
   "cell_type": "markdown",
   "metadata": {},
   "source": [
    "# PV data"
   ]
  },
  {
   "cell_type": "code",
   "execution_count": 9,
   "metadata": {},
   "outputs": [],
   "source": [
    "PV_date = '2024-05-28'"
   ]
  },
  {
   "cell_type": "code",
   "execution_count": 10,
   "metadata": {},
   "outputs": [],
   "source": [
    "P_PVs = pd.read_csv(join(Grid_model_path, 'PV_data', 'PV.csv'), index_col=0, parse_dates=True)[PV_date]"
   ]
  },
  {
   "cell_type": "code",
   "execution_count": 11,
   "metadata": {},
   "outputs": [],
   "source": [
    "P_PVs = pd.DataFrame(\n",
    "    index=sim_datetimes,\n",
    "    columns=PVs_names,\n",
    "    data=np.tile(P_PVs, len(PVs_names)) * 4\n",
    ")"
   ]
  },
  {
   "cell_type": "code",
   "execution_count": null,
   "metadata": {},
   "outputs": [],
   "source": [
    "px.line(P_PVs)"
   ]
  },
  {
   "cell_type": "markdown",
   "metadata": {},
   "source": [
    "# Compilation of the main .dss file of the grid model"
   ]
  },
  {
   "cell_type": "code",
   "execution_count": 13,
   "metadata": {},
   "outputs": [],
   "source": [
    "dssText.Command = \"compile \" + join(Grid_model_path, \"Master.dss\")"
   ]
  },
  {
   "cell_type": "markdown",
   "metadata": {},
   "source": [
    "# Definition of the function that performs the grid simulation for a given timestamp "
   ]
  },
  {
   "cell_type": "code",
   "execution_count": 14,
   "metadata": {},
   "outputs": [],
   "source": [
    "def Grid_sim(P_loads_t):\n",
    "    def Grid_sim_fixed_loads(P_CPs_t, P_PVs_t):\n",
    "        for load in load_names:                 # Update the load power consumption\n",
    "            dssText.Command = \"Edit Load.\" + load + \" kW=\" + str(max(P_loads_t[load], 1e-10))\n",
    "        for CP in CPs_names:\n",
    "            dssText.Command = \"Edit Load.\" + CP + \" kW=\" + str(max(P_CPs_t[CP], 1e-10))\n",
    "        for PV in PVs_names:\n",
    "            dssText.Command = \"Edit Load.\" + PV + \" kW=\" + str(min(-P_PVs_t[PV], -1e-10))\n",
    "        dssSolution.Solve()                     # Solve a power flow simulation\n",
    "                       # Select the voltage source to get some results at it\n",
    "        # P_source = np.array([- dssElem.Powers[0], - dssElem.Powers[2], - dssElem.Powers[4]])\n",
    "        total_buses = len(dssCircuit.AllBusNames)\n",
    "        all_V = pd.Series(\n",
    "                index=dssCircuit.AllBusNames,\n",
    "                data = np.array(dssCircuit.AllBusVmagPu).reshape(total_buses, 3).min(axis=1)\n",
    "                )        # Get all voltages in the main buses \n",
    "        PUI = np.array([])\n",
    "        dssCircuit.Lines.Name = 'LINE161'\n",
    "        current = dssElem.CurrentsMagAng\n",
    "        I = np.array([current[0], current[2], current[4]])\n",
    "        PUI = np.append(PUI, np.max(np.abs(I - np.repeat(np.mean(I), 3))) / np.mean(I) * 100)\n",
    "        dssCircuit.Lines.Name = 'LINE3163'\n",
    "        current = dssElem.CurrentsMagAng\n",
    "        I = np.array([current[0], current[2], current[4]])\n",
    "        PUI = np.append(PUI, np.max(np.abs(I - np.repeat(np.mean(I), 3))) / np.mean(I) * 100)\n",
    "        dssCircuit.Lines.Name = 'LINE2690'\n",
    "        current = dssElem.CurrentsMagAng\n",
    "        I = np.array([current[0], current[2], current[4]])\n",
    "        PUI = np.append(PUI, np.max(np.abs(I - np.repeat(np.mean(I), 3))) / np.mean(I) * 100)\n",
    "        return all_V[main_buses_names], PUI\n",
    "    return Grid_sim_fixed_loads"
   ]
  },
  {
   "cell_type": "markdown",
   "metadata": {},
   "source": [
    "# Parameters"
   ]
  },
  {
   "cell_type": "code",
   "execution_count": 15,
   "metadata": {},
   "outputs": [],
   "source": [
    "N1 = 0\n",
    "N2 = 0 \n",
    "alpha = 1.1\n",
    "U_size = (3 + 12) * (N2 - N1 + 1) # Minpulated variables size\n",
    "Alpha = np.array([alpha**(N2 - j) for j in range(N1, N2+1)])\n",
    "X_opt_cols = [e + '_' + str(i) for i in range(N1+1, N2+2) for e in CPs_names+PVs_names]"
   ]
  },
  {
   "cell_type": "markdown",
   "metadata": {},
   "source": [
    "# Objective functions"
   ]
  },
  {
   "cell_type": "markdown",
   "metadata": {},
   "source": [
    "## Obj 1"
   ]
  },
  {
   "cell_type": "markdown",
   "metadata": {},
   "source": [
    "$$ \\underset{\\underset{1 \\leq i \\leq 3,\\ 1 \\leq p \\leq 12}{P_{\\mathrm{CP}_i}(t),\\ P_{\\mathrm{PV}_{p}}(t)}}{min} f_1(t) = \\sum_{i = 1}^{3} \\left[\\mathrm{PUI}_{\\mathrm{bus\\_CP}_i}(t)\\right]^2 $$"
   ]
  },
  {
   "cell_type": "code",
   "execution_count": 16,
   "metadata": {},
   "outputs": [],
   "source": [
    "def objective_1(P_loads_t):\n",
    "    def objective_1_fixed_loads(U):\n",
    "        U_df = pd.Series(index=CPs_names+PVs_names, data=U)\n",
    "        P_CPs_opt_t = U_df[CPs_names]\n",
    "        P_PVs_opt_t = U_df[PVs_names]\n",
    "        for load in load_names:                 # Update the load power consumption\n",
    "            dssText.Command = \"Edit Load.\" + load + \" kW=\" + str(max(P_loads_t[load], 1e-10))\n",
    "        for CP in CPs_names:\n",
    "            dssText.Command = \"Edit Load.\" + CP + \" kW=\" + str(max(P_CPs_opt_t[CP], 1e-10))\n",
    "        for PV in PVs_names:\n",
    "            dssText.Command = \"Edit Load.\" + PV + \" kW=\" + str(min(-4 * P_PVs_opt_t[PV], -1e-10))\n",
    "        dssSolution.Solve()                     # Solve a power flow simulation\n",
    "        PUI = np.array([])\n",
    "        dssCircuit.Lines.Name = 'LINE161'\n",
    "        current = dssElem.CurrentsMagAng\n",
    "        I = np.array([current[0], current[2], current[4]])\n",
    "        PUI = np.append(PUI, np.max(np.abs(I - np.repeat(np.mean(I), 3))) / np.mean(I) * 100)\n",
    "        dssCircuit.Lines.Name = 'LINE3163'\n",
    "        current = dssElem.CurrentsMagAng\n",
    "        I = np.array([current[0], current[2], current[4]])\n",
    "        PUI = np.append(PUI, np.max(np.abs(I - np.repeat(np.mean(I), 3))) / np.mean(I) * 100)\n",
    "        dssCircuit.Lines.Name = 'LINE2690'\n",
    "        current = dssElem.CurrentsMagAng\n",
    "        I = np.array([current[0], current[2], current[4]])\n",
    "        PUI = np.append(PUI, np.max(np.abs(I - np.repeat(np.mean(I), 3))) / np.mean(I) * 100)\n",
    "        return np.square(PUI).sum()\n",
    "    return objective_1_fixed_loads"
   ]
  },
  {
   "cell_type": "markdown",
   "metadata": {},
   "source": [
    "## Obj 2"
   ]
  },
  {
   "cell_type": "markdown",
   "metadata": {},
   "source": [
    "$$ \\underset{\\underset{1 \\leq p \\leq 12}{\\ P_{\\mathrm{PV}_{p}}(t)}}{min} f_2(t) =  \\sum_{p = 1}^{12} \\left[P_{PV_{\\mathrm{actual}}}(t) - P_{PV_{p}}(t)\\right]^2$$"
   ]
  },
  {
   "cell_type": "code",
   "execution_count": 17,
   "metadata": {},
   "outputs": [],
   "source": [
    "def objective_2(P_PVs_t):\n",
    "    def objective_2_compared_to_actual_PV(U):\n",
    "        U_df = pd.DataFrame(columns=CPs_names+PVs_names, data=U.reshape(N2 - N1 + 1, int(U_size / (N2 - N1 + 1))))\n",
    "        P_PVs_opt_t = U_df[PVs_names]\n",
    "        return np.sum((P_PVs_t.values - P_PVs_opt_t.values)** 2, axis=1)\n",
    "    return objective_2_compared_to_actual_PV"
   ]
  },
  {
   "cell_type": "markdown",
   "metadata": {},
   "source": [
    "# Termination"
   ]
  },
  {
   "cell_type": "code",
   "execution_count": 18,
   "metadata": {},
   "outputs": [],
   "source": [
    "from pymoo.termination import get_termination # type: ignore\n",
    "from pymoo.core.termination import TerminateIfAny # type: ignore\n",
    "\n",
    "myTermination = TerminateIfAny(get_termination(\"n_gen\", 100), get_termination(\"moo\"))"
   ]
  },
  {
   "cell_type": "markdown",
   "metadata": {},
   "source": [
    "# Algorithm choice: Non-dominated Sorting Genetic Algorithm (NSGA2)"
   ]
  },
  {
   "cell_type": "code",
   "execution_count": 19,
   "metadata": {},
   "outputs": [],
   "source": [
    "from pymoo.algorithms.moo.nsga2 import NSGA2 # type: ignore\n",
    "\n",
    "algorithm = NSGA2(pop_size=100)"
   ]
  },
  {
   "cell_type": "markdown",
   "metadata": {},
   "source": [
    "# Test cell"
   ]
  },
  {
   "cell_type": "code",
   "execution_count": 20,
   "metadata": {},
   "outputs": [],
   "source": [
    "# ts = sim_datetimes[144]\n",
    "# P_loads_t = P_loads.loc[ts]\n",
    "# P_CPs_t = P_CPs.loc[ts]\n",
    "# P_PVs_t = P_PVs.loc[ts]\n",
    "# U = np.concatenate([P_CPs_t, P_PVs_t])"
   ]
  },
  {
   "cell_type": "markdown",
   "metadata": {},
   "source": [
    "# Initialize"
   ]
  },
  {
   "cell_type": "code",
   "execution_count": 21,
   "metadata": {},
   "outputs": [],
   "source": [
    "P_CPs_opt = pd.DataFrame(columns=CPs_names)\n",
    "P_PVs_opt = pd.DataFrame(columns=PVs_names)\n",
    "V = pd.DataFrame(columns=main_buses_names)\n",
    "PUI = pd.DataFrame(columns=['PUI_bus_CP1', 'PUI_bus_CP2', 'PUI_bus_CP3'])"
   ]
  },
  {
   "cell_type": "markdown",
   "metadata": {},
   "source": [
    "# Run Smart Control loop"
   ]
  },
  {
   "cell_type": "code",
   "execution_count": null,
   "metadata": {},
   "outputs": [],
   "source": [
    "# %%time\n",
    "for ts in sim_datetimes:\n",
    "    print(\"| timestamp: \" + str(ts) + (56 - len(\" timestamp: \" + str(ts))) * \" \" + \"|\") \n",
    "    # Input actual values\n",
    "    P_loads_t = P_loads.loc[ts]\n",
    "    P_CPs_t = P_CPs.loc[ts]\n",
    "    P_PVs_t = P_PVs.loc[ts]\n",
    "    # If there is no EV charging demand no need for optimization, the total PV power will be injected without control\n",
    "    if np.all(P_CPs_t == 0): \n",
    "        print(\"| No optimization is needed\" + (56 - len(\" No optimization is needed\")) * \" \" + \"|\") \n",
    "        print('+' + '-' * 56 + '+')\n",
    "        P_CPs_opt_t, P_PVs_opt_t = P_CPs_t, P_PVs_t\n",
    "    # Else run the optimization for controlling the CP and PV powers\n",
    "    else:\n",
    "        print(\"| Running the optimization\" + (56 - len(\" Running the optimization\")) * \" \" + \"|\") \n",
    "        # Define lower and upper bounds of the control variables\n",
    "        Lb_CP, Ub_CP = P_CPs_t.values * 0.9, P_CPs_t.values * 1.1\n",
    "        Lb_PV, Ub_PV = np.repeat(0, 12), P_PVs_t.values\n",
    "        Lb, Ub = np.concatenate([Lb_CP, Lb_PV]), np.concatenate([Ub_CP, Ub_PV])\n",
    "        # Define the optimization problem\n",
    "        problem = FunctionalProblem(n_var=U_size, \n",
    "                                    objs=[objective_1(P_loads_t), objective_2(P_PVs_t)],\n",
    "                                    xl=Lb,\n",
    "                                    xu=Ub,\n",
    "                                    )\n",
    "        # Run the optimization\n",
    "        opt = minimize(problem, algorithm, seed=1, termination=myTermination, disp=True, verbose=True)\n",
    "        X_star = pd.DataFrame(columns=X_opt_cols, data=opt.X)\n",
    "        F_star = pd.DataFrame(columns=['f1', 'f2'], data=opt.F)\n",
    "        # Save X and F\n",
    "        X_F_res = pd.concat([X_star, F_star], axis=1)\n",
    "        if not exists(join(Results_path, 'Control_results', \"X_F_results\")): os.makedirs(join(Results_path, 'Control_results', \"X_F_results\"))\n",
    "        X_F_res.to_csv(join(Results_path, 'Control_results', \"X_F_results\", \"X_F_res_\" + ts.strftime(\"%H_%M\") + \".csv\"))\n",
    "        # Plot and save f1_f2 fig\n",
    "        plot = Scatter()\n",
    "        plot.add(opt.F, facecolor=\"none\", edgecolor=\"red\")\n",
    "        plot.figsize = (20,10)\n",
    "        if not exists(join(Results_path, 'Control_results', \"F1_F2_figures\")): os.makedirs(join(Results_path, 'Control_results', \"F1_F2_figures\"))\n",
    "        plot.save(join(Results_path, 'Control_results', \"F1_F2_figures\",\"f1_f2_\" + ts.strftime(\"%H_%M\") + \".jpg\"))\n",
    "        # MCDM of the choice of X_opt (Compromise solution [0.5,0.5])\n",
    "        approx_ideal = opt.F.min(axis=0)\n",
    "        approx_nadir = opt.F.max(axis=0)\n",
    "        nF = (opt.F - approx_ideal) / (approx_nadir - approx_ideal)\n",
    "        weights = np.array([0.5, 0.5])\n",
    "        decomp = ASF()\n",
    "        i_f = decomp.do(nF, 1/weights).argmin()\n",
    "        comp_prog_res = X_F_res.iloc[i_f,:]\n",
    "        # Plot and save f1_f2 fig\n",
    "        plt.figure(figsize=(20,10), dpi=400)\n",
    "        plt.scatter(opt.F[:, 0], opt.F[:, 1], s=30, facecolors='none', edgecolors='blue')\n",
    "        plt.scatter(opt.F[i_f, 0], opt.F[i_f, 1], marker=\"x\", color=\"red\", s=200)\n",
    "        plt.title(\"Objective Space\")\n",
    "        if not exists(join(Results_path, 'Control_results', \"F1_F2_figures\")): os.makedirs(join(Results_path, 'Control_results', \"F1_F2_figures\"))\n",
    "        plt.savefig(join(Results_path, 'Control_results', \"F1_F2_figures\",\"f1_f2_\" + ts.strftime(\"%H_%M\") + \".jpg\"))\n",
    "        # Simulate with optimal values\n",
    "        P_CPs_opt_t, P_PVs_opt_t = comp_prog_res[[CP + '_1' for CP in CPs_names]], comp_prog_res[[PV + '_1' for PV in PVs_names]]\n",
    "        P_CPs_opt_t.index, P_PVs_opt_t.index = CPs_names, PVs_names\n",
    "        print('+' + '-' * 56 + '+')\n",
    "    P_CPs_opt.loc[ts], P_PVs_opt.loc[ts] = P_CPs_opt_t.values, P_PVs_opt_t.values\n",
    "    V.loc[ts], PUI.loc[ts] = Grid_sim(P_loads.loc[ts])(P_CPs_opt_t, P_PVs_opt_t)\n",
    "    # Saving results in the Hard disk\n",
    "    # if not exists(join(Results_path, 'Control_results', \"Sim_results\")): os.makedirs(join(Results_path, 'Control_results', \"Sim_results\"))\n",
    "    # P_CPs_opt.to_csv(join(Results_path, 'Control_results', \"Sim_results\", \"P_CPs_opt.csv\"))\n",
    "    # P_PVs_opt.to_csv(join(Results_path, 'Control_results', \"Sim_results\", \"P_PVs_opt.csv\"))\n",
    "    # V.to_csv(join(Results_path, 'Control_results', \"Sim_results\", \"V.csv\"))\n",
    "    # PUI.to_csv(join(Results_path, 'Control_results', \"Sim_results\", \"PUI.csv\"))"
   ]
  },
  {
   "cell_type": "markdown",
   "metadata": {},
   "source": [
    "# Results"
   ]
  },
  {
   "cell_type": "code",
   "execution_count": 24,
   "metadata": {},
   "outputs": [],
   "source": [
    "P_CPs_opt = pd.read_csv(join(Results_path, 'Control_results', \"Sim_results\", \"P_CPs_opt.csv\"), index_col=0, parse_dates=True)\n",
    "P_PVs_opt = pd.read_csv(join(Results_path, 'Control_results', \"Sim_results\", \"P_PVs_opt.csv\"), index_col=0, parse_dates=True)\n",
    "V = pd.read_csv(join(Results_path, 'Control_results', \"Sim_results\", \"V.csv\"), index_col=0, parse_dates=True)\n",
    "PUI = pd.read_csv(join(Results_path, 'Control_results', \"Sim_results\", \"PUI.csv\"), index_col=0, parse_dates=True)"
   ]
  },
  {
   "cell_type": "markdown",
   "metadata": {},
   "source": [
    "## Phase unbalance"
   ]
  },
  {
   "cell_type": "code",
   "execution_count": null,
   "metadata": {},
   "outputs": [],
   "source": [
    "px.line(PUI)"
   ]
  },
  {
   "cell_type": "markdown",
   "metadata": {},
   "source": [
    "## PV power usage"
   ]
  },
  {
   "cell_type": "code",
   "execution_count": null,
   "metadata": {},
   "outputs": [],
   "source": [
    "px.line(P_PVs_opt)"
   ]
  },
  {
   "cell_type": "markdown",
   "metadata": {},
   "source": [
    "## Voltage drop"
   ]
  },
  {
   "cell_type": "code",
   "execution_count": null,
   "metadata": {},
   "outputs": [],
   "source": [
    "px.line(V)"
   ]
  }
 ],
 "metadata": {
  "kernelspec": {
   "display_name": "Python 3",
   "language": "python",
   "name": "python3"
  },
  "language_info": {
   "codemirror_mode": {
    "name": "ipython",
    "version": 3
   },
   "file_extension": ".py",
   "mimetype": "text/x-python",
   "name": "python",
   "nbconvert_exporter": "python",
   "pygments_lexer": "ipython3",
   "version": "3.11.2"
  }
 },
 "nbformat": 4,
 "nbformat_minor": 2
}
